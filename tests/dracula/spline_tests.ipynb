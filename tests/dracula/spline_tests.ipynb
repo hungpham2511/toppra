{
 "cells": [
  {
   "cell_type": "code",
   "execution_count": 2,
   "metadata": {},
   "outputs": [],
   "source": [
    "import numpy as np\n",
    "import toppra.dracula as drac\n",
    "import toppra as ta\n",
    "import toppra.algorithm as algo\n",
    "from toppra import constraint"
   ]
  },
  {
   "cell_type": "code",
   "execution_count": 3,
   "metadata": {},
   "outputs": [],
   "source": [
    "import re\n",
    "import ast\n",
    "import numpy as np\n",
    "\n",
    "def parse_str_arr(s):\n",
    "    a = re.sub(r\"([^[])\\s+([^]])\", r\"\\1, \\2\", s)\n",
    "    return np.array(ast.literal_eval(a))"
   ]
  },
  {
   "cell_type": "code",
   "execution_count": 14,
   "metadata": {},
   "outputs": [],
   "source": [
    "waypts = np.loadtxt('test_waypts_4.txt')\n",
    "coeff = 1\n",
    "vlim = coeff * np.vstack([-V_MAX, V_MAX]).T\n",
    "alim = coeff * np.vstack([-A_MAX, A_MAX]).T"
   ]
  },
  {
   "cell_type": "code",
   "execution_count": 10,
   "metadata": {},
   "outputs": [],
   "source": [
    "min_pair_dist, t_sum = _check_waypoints(waypts, vlim)"
   ]
  },
  {
   "cell_type": "code",
   "execution_count": 11,
   "metadata": {},
   "outputs": [
    {
     "data": {
      "text/plain": [
       "0.064046801532567"
      ]
     },
     "execution_count": 11,
     "metadata": {},
     "output_type": "execute_result"
    }
   ],
   "source": [
    "t_sum"
   ]
  },
  {
   "cell_type": "code",
   "execution_count": 103,
   "metadata": {},
   "outputs": [
    {
     "name": "stderr",
     "output_type": "stream",
     "text": [
      " INFO [algorithm.py : 100] No gridpoint specified. Automatically choose a gridpoint with 82 points\n",
      " INFO [algorithm.py : 185] Successfully parametrize path. Duration: 236.208, previously 0.150)\n",
      " INFO [algorithm.py : 186] Finish parametrization in 0.006 secs\n"
     ]
    },
    {
     "data": {
      "text/plain": [
       "array([0.00000000e+00, 3.16199586e-02, 4.60807571e-02, 6.98534902e-02,\n",
       "       8.96981238e-02, 1.09219610e-01, 1.19978013e-01, 1.31548412e-01,\n",
       "       1.43994573e-01, 1.57206783e-01, 1.71047139e-01, 1.85690955e-01,\n",
       "       2.00384167e-01, 2.14353549e-01, 2.40340844e-01, 2.63714702e-01,\n",
       "       2.86547900e-01, 2.98676786e-01, 3.11448229e-01, 3.24832863e-01,\n",
       "       3.38772825e-01, 3.52667365e-01, 3.65999132e-01, 3.78726769e-01,\n",
       "       3.90799480e-01, 4.02279883e-01, 4.13126165e-01, 4.32822977e-01,\n",
       "       4.49881651e-01, 4.66819611e-01, 4.76227395e-01, 4.85987430e-01,\n",
       "       4.95860630e-01, 5.05312706e-01, 5.14130230e-01, 5.22532177e-01,\n",
       "       5.38172225e-01, 5.52096914e-01, 5.78110499e-01, 5.92391505e-01,\n",
       "       6.05885490e-01, 6.17255324e-01, 6.27890502e-01, 6.38366510e-01,\n",
       "       6.49605584e-01, 6.62253222e-01, 6.76260358e-01, 6.90817410e-01,\n",
       "       7.04814861e-01, 7.31597208e-01, 7.45523006e-01, 7.60113422e-01,\n",
       "       7.74783405e-01, 7.87926466e-01, 8.08726169e-01, 8.41283647e-01,\n",
       "       8.74613190e-01, 8.92095290e-01, 1.03712166e+00, 1.05320491e+00,\n",
       "       1.06444169e+00, 1.07713570e+00, 1.09148552e+00, 1.10843881e+00,\n",
       "       1.11894332e+00, 1.13072957e+00, 1.15415470e+00, 1.17657930e+00,\n",
       "       1.20213945e+00, 1.22493849e+00, 1.24047909e+00, 1.26586875e+00,\n",
       "       1.28855147e+00, 1.31515771e+00, 1.33157203e+00, 1.35272109e+00,\n",
       "       1.36976313e+00, 1.37865582e+00, 1.38740896e+00, 1.40721486e+00,\n",
       "       1.43131806e+00, 2.36207851e+02])"
      ]
     },
     "execution_count": 103,
     "metadata": {},
     "output_type": "execute_result"
    }
   ],
   "source": [
    "N_samples = waypts.shape[0]\n",
    "min_pair_dist, t_sum = _check_waypoints(waypts, vlim)\n",
    "x = np.linspace(0, 0.15, N_samples)  # magic number\n",
    "path = ta.SplineInterpolator(x, waypts.copy(), bc_type=\"clamped\")\n",
    "pc_vel = constraint.JointVelocityConstraint(vlim)\n",
    "pc_acc = constraint.JointAccelerationConstraint(\n",
    "    alim, discretization_scheme=constraint.DiscretizationType.Interpolation\n",
    ")\n",
    "instance = algo.TOPPRA(\n",
    "    [pc_vel, pc_acc],\n",
    "    path,\n",
    "    # gridpoints=gridpoints,\n",
    "    solver_wrapper=\"seidel\",\n",
    ")\n",
    "jnt_traj = instance.compute_trajectory(0, 0)\n",
    "jnt_traj.cspl.x"
   ]
  },
  {
   "cell_type": "code",
   "execution_count": 113,
   "metadata": {},
   "outputs": [],
   "source": [
    "cs = jnt_traj.cspl\n",
    "x = cs.x\n",
    "vlim = vlim[:, 1]"
   ]
  },
  {
   "cell_type": "code",
   "execution_count": 114,
   "metadata": {},
   "outputs": [
    {
     "data": {
      "text/plain": [
       "array([1.0875, 1.0875, 1.0875, 1.0875, 1.305 , 1.305 , 1.305 ])"
      ]
     },
     "execution_count": 114,
     "metadata": {},
     "output_type": "execute_result"
    }
   ],
   "source": [
    "vlim"
   ]
  },
  {
   "cell_type": "code",
   "execution_count": 119,
   "metadata": {},
   "outputs": [
    {
     "data": {
      "text/plain": [
       "False"
      ]
     },
     "execution_count": 119,
     "metadata": {},
     "output_type": "execute_result"
    }
   ],
   "source": [
    "(np.abs(cs.derivative(1)(x))/vlim > 1).any()"
   ]
  },
  {
   "cell_type": "code",
   "execution_count": null,
   "metadata": {},
   "outputs": [],
   "source": [
    "data = np.load('/data/toppra/20201204T175646.794406+0000.npz')\n",
    "waypts = data['waypts']\n",
    "vlim = data['vlim']\n",
    "alim = data['alim']\n",
    "vmax = vlim[:, 1]\n",
    "amax = alim[:, 1]"
   ]
  },
  {
   "cell_type": "code",
   "execution_count": 25,
   "metadata": {},
   "outputs": [],
   "source": [
    "waypts = np.array([\n",
    "[ 0.1088, -1.5201,  1.1266, -2.6961,  1.1851,  1.5092, -1.8498],\n",
    "[-0.5517, -0.5657,  1.7334, -1.8182,  0.5651,  1.5971, -1.1968],\n",
    "])\n",
    "vmax = np.array([0.54375, 0.54375, 0.54375, 0.54375,  0.6525,  0.6525,  0.6525])\n",
    "amax = np.array([ 3.75, 1.875,   2.5, 3.125,  3.75,     5,     5])\n",
    "vlim = np.vstack([-vmax, vmax]).T\n",
    "alim = np.vstack([-amax, amax]).T"
   ]
  },
  {
   "cell_type": "code",
   "execution_count": null,
   "metadata": {},
   "outputs": [],
   "source": [
    "cs = RunTopp(waypts, vlim, alim, return_cs=True, verify_lims=True)"
   ]
  },
  {
   "cell_type": "code",
   "execution_count": 95,
   "metadata": {},
   "outputs": [],
   "source": [
    "order = 1\n",
    "lim = vlim*0.893\n",
    "deriv = cs.derivative(order)(cs.x)\n",
    "deriv[13, 1] *= -1  # debug\n",
    "i, j = np.where(~((lim[:, 0] < deriv) & (deriv < lim[:, 1])))\n",
    "signed_lim = np.where(deriv > 0, lim[:, 1], lim[:, 0])\n",
    "excess = np.sign(deriv) * (deriv - signed_lim)  # want the +ve entries\n",
    "excess_percent = excess / np.abs(signed_lim)  # want +ve entries"
   ]
  },
  {
   "cell_type": "code",
   "execution_count": 85,
   "metadata": {},
   "outputs": [
    {
     "data": {
      "text/plain": [
       "array([-1.49205744e-01,  4.64335721e-04, -1.76552744e-01, -3.84936809e-02,\n",
       "       -2.66944326e-01, -5.37918975e-01, -2.50138907e-01])"
      ]
     },
     "execution_count": 85,
     "metadata": {},
     "output_type": "execute_result"
    }
   ],
   "source": [
    "(np.sign(deriv) * (deriv - signed_lim))[13]"
   ]
  },
  {
   "cell_type": "code",
   "execution_count": 83,
   "metadata": {},
   "outputs": [
    {
     "data": {
      "text/plain": [
       "array([ 1.49205744e-01, -4.64335721e-04, -1.76552744e-01, -3.84936809e-02,\n",
       "        2.66944326e-01, -5.37918975e-01, -2.50138907e-01])"
      ]
     },
     "execution_count": 83,
     "metadata": {},
     "output_type": "execute_result"
    }
   ],
   "source": [
    "(deriv - signed_lim)[13]"
   ]
  },
  {
   "cell_type": "code",
   "execution_count": 64,
   "metadata": {},
   "outputs": [
    {
     "data": {
      "text/plain": [
       "array([[-0.48556875,  0.48556875],\n",
       "       [-0.48556875,  0.48556875],\n",
       "       [-0.48556875,  0.48556875],\n",
       "       [-0.48556875,  0.48556875],\n",
       "       [-0.5826825 ,  0.5826825 ],\n",
       "       [-0.5826825 ,  0.5826825 ],\n",
       "       [-0.5826825 ,  0.5826825 ]])"
      ]
     },
     "execution_count": 64,
     "metadata": {},
     "output_type": "execute_result"
    }
   ],
   "source": [
    "lim"
   ]
  },
  {
   "cell_type": "code",
   "execution_count": 5,
   "metadata": {},
   "outputs": [
    {
     "data": {
      "text/plain": [
       "array([ 4.67432654e-01, -9.83477545e-05,  4.53298958e-01,  2.05413889e-01,\n",
       "        6.41458630e-01,  3.03419892e-01,  4.19086688e-01])"
      ]
     },
     "execution_count": 5,
     "metadata": {},
     "output_type": "execute_result"
    }
   ],
   "source": [
    "vmax - np.abs(cs.derivative(1)(cs.x))[21,:]"
   ]
  },
  {
   "cell_type": "code",
   "execution_count": 7,
   "metadata": {},
   "outputs": [
    {
     "name": "stderr",
     "output_type": "stream",
     "text": [
      " INFO [__init__.py : 60] Debug environment detected, input data saved to: /data/toppra/20201204T175318.489327+0000.npz\n",
      " INFO [algorithm.py : 100] No gridpoint specified. Automatically choose a gridpoint with 73 points\n",
      " INFO [algorithm.py : 185] Successfully parametrize path. Duration: 1.377, previously 0.217)\n",
      " INFO [algorithm.py : 186] Finish parametrization in 0.012 secs\n",
      " INFO [__init__.py : 189] Returning optimised cubic spline trajectory of 77 knots\n"
     ]
    }
   ],
   "source": [
    "cs = RunTopp(waypts, vlim, alim, return_cspl=True)"
   ]
  },
  {
   "cell_type": "code",
   "execution_count": 56,
   "metadata": {},
   "outputs": [
    {
     "data": {
      "text/plain": [
       "(9, 7)"
      ]
     },
     "execution_count": 56,
     "metadata": {},
     "output_type": "execute_result"
    }
   ],
   "source": [
    "new_waypts = cs(cs.x)\n",
    "new_waypts.shape"
   ]
  },
  {
   "cell_type": "code",
   "execution_count": 57,
   "metadata": {},
   "outputs": [
    {
     "name": "stderr",
     "output_type": "stream",
     "text": [
      " INFO [__init__.py : 60] Debug environment detected, input data saved to: /data/toppra/20201204T160342.125263+0000.npz\n",
      "WARNING [__init__.py : 85] Duplicates found in input waypoints. This is not recommended, especially for the beginning and the end of the trajectory. Toppra might throw a controllability exception. Attempting to optimise trajectory anyway...\n",
      " INFO [algorithm.py : 100] No gridpoint specified. Automatically choose a gridpoint with 5 points\n",
      " INFO [algorithm.py : 185] Successfully parametrize path. Duration: 0.095, previously 0.150)\n",
      " INFO [algorithm.py : 186] Finish parametrization in 0.002 secs\n"
     ]
    }
   ],
   "source": [
    "new_cs = RunTopp(new_waypts, vlim, alim, return_cspl=True)"
   ]
  },
  {
   "cell_type": "markdown",
   "metadata": {},
   "source": [
    "### crt jnt test"
   ]
  },
  {
   "cell_type": "code",
   "execution_count": 5,
   "metadata": {},
   "outputs": [],
   "source": [
    "from toppra.dracula import run_topp_spline, _find_waypts_indices"
   ]
  },
  {
   "cell_type": "code",
   "execution_count": 6,
   "metadata": {},
   "outputs": [],
   "source": [
    "import numpy as np\n",
    "data = np.load('/data/toppra/input_data/20210114T160131.877605+0000.npz')\n",
    "waypts_jnt = data['waypts']\n",
    "vlim_jnt = data['vlim']\n",
    "alim_jnt = data['alim']"
   ]
  },
  {
   "cell_type": "code",
   "execution_count": 7,
   "metadata": {},
   "outputs": [],
   "source": [
    "data = np.load('/data/toppra/input_data/20210114T160131.958179+0000.npz')\n",
    "waypts_crt = data['waypts']\n",
    "vlim_crt = data['vlim']\n",
    "alim_crt = data['alim']"
   ]
  },
  {
   "cell_type": "code",
   "execution_count": null,
   "metadata": {},
   "outputs": [],
   "source": [
    "cs_jnt = run_topp_spline(\n",
    "    waypts_jnt,\n",
    "    vlim_jnt,\n",
    "    alim_jnt,\n",
    "    verify_lims=True,\n",
    "    return_cs=True,\n",
    ")\n",
    "cs_crt = run_topp_spline(\n",
    "    waypts_crt,\n",
    "    vlim_crt,\n",
    "    alim_crt,\n",
    "    verify_lims=True,\n",
    "    return_cs=True,\n",
    ")"
   ]
  },
  {
   "cell_type": "code",
   "execution_count": null,
   "metadata": {},
   "outputs": [],
   "source": [
    "idx_jnt = _find_waypts_indices(waypts_jnt, cs_jnt)"
   ]
  },
  {
   "cell_type": "code",
   "execution_count": 32,
   "metadata": {},
   "outputs": [
    {
     "name": "stdout",
     "output_type": "stream",
     "text": [
      "checking waypt 0\n",
      "current k: 0\n",
      "keeping going right, current err 0.0\n",
      "current k: 1\n",
      "found higher err: 2.5132250986948753e-05, diff: 2.5132250986948753e-05, set idx[0] = 0\n",
      "checking waypt 1\n",
      "current k: 1\n",
      "keeping going right, current err 4.612273509455428\n",
      "current k: 2\n",
      "keeping going right, current err 4.61230941365929\n",
      "current k: 3\n",
      "keeping going right, current err 4.6114082478861596\n",
      "current k: 4\n",
      "keeping going right, current err 4.608905454262589\n",
      "current k: 5\n",
      "keeping going right, current err 4.6047663878306375\n",
      "current k: 6\n",
      "keeping going right, current err 4.599017440087216\n",
      "current k: 7\n",
      "keeping going right, current err 4.591685002529233\n",
      "current k: 8\n",
      "keeping going right, current err 4.5827954666535975\n",
      "current k: 9\n",
      "keeping going right, current err 4.57237522395722\n",
      "current k: 10\n",
      "keeping going right, current err 4.560450665937008\n",
      "current k: 11\n",
      "keeping going right, current err 4.547048184089872\n",
      "current k: 12\n",
      "keeping going right, current err 4.532194169912723\n",
      "current k: 13\n",
      "keeping going right, current err 4.515915014902467\n",
      "current k: 14\n",
      "keeping going right, current err 4.4982371105560155\n",
      "current k: 15\n",
      "keeping going right, current err 4.4791868483702775\n",
      "current k: 16\n",
      "keeping going right, current err 4.458790619842162\n",
      "current k: 17\n",
      "keeping going right, current err 4.437074816468579\n",
      "current k: 18\n",
      "keeping going right, current err 4.414065829746438\n",
      "current k: 19\n",
      "keeping going right, current err 4.389790051172647\n",
      "current k: 20\n",
      "keeping going right, current err 4.364273872244117\n",
      "current k: 21\n",
      "keeping going right, current err 4.337543684457755\n",
      "current k: 22\n",
      "keeping going right, current err 4.309625879310473\n",
      "current k: 23\n",
      "keeping going right, current err 4.280546848299179\n",
      "current k: 24\n",
      "keeping going right, current err 4.250332982920782\n",
      "current k: 25\n",
      "keeping going right, current err 4.219010674672194\n",
      "current k: 26\n",
      "keeping going right, current err 4.18660631505032\n",
      "current k: 27\n",
      "keeping going right, current err 4.153146295552073\n",
      "current k: 28\n",
      "keeping going right, current err 4.1186570076743605\n",
      "current k: 29\n",
      "keeping going right, current err 4.083164842914092\n",
      "current k: 30\n",
      "keeping going right, current err 4.046696192768179\n",
      "current k: 31\n",
      "keeping going right, current err 4.009277448733528\n",
      "current k: 32\n",
      "keeping going right, current err 3.9709350023070495\n",
      "current k: 33\n",
      "keeping going right, current err 3.9316952449856526\n",
      "current k: 34\n",
      "keeping going right, current err 3.891584568266247\n",
      "current k: 35\n",
      "keeping going right, current err 3.8506293636457425\n",
      "current k: 36\n",
      "keeping going right, current err 3.8088560226210473\n",
      "current k: 37\n",
      "keeping going right, current err 3.7662909366890718\n",
      "current k: 38\n",
      "keeping going right, current err 3.7229604973467243\n",
      "current k: 39\n",
      "keeping going right, current err 3.678891096090916\n",
      "current k: 40\n",
      "keeping going right, current err 3.6341091244185537\n",
      "current k: 41\n",
      "keeping going right, current err 3.588640973826548\n",
      "current k: 42\n",
      "keeping going right, current err 3.542513035811809\n",
      "current k: 43\n",
      "keeping going right, current err 3.4483833635017667\n",
      "current k: 44\n",
      "keeping going right, current err 3.351931239463701\n",
      "current k: 45\n",
      "keeping going right, current err 3.2533677956728866\n",
      "current k: 46\n",
      "keeping going right, current err 3.1529041641045983\n",
      "current k: 47\n",
      "keeping going right, current err 3.050751476734111\n",
      "current k: 48\n",
      "keeping going right, current err 2.9471208655366996\n",
      "current k: 49\n",
      "keeping going right, current err 2.8422234624876395\n",
      "current k: 50\n",
      "keeping going right, current err 2.7362703995622044\n",
      "current k: 51\n",
      "keeping going right, current err 2.522041821983312\n",
      "current k: 52\n",
      "keeping going right, current err 2.30612418860222\n",
      "current k: 53\n",
      "keeping going right, current err 2.0902065552211284\n",
      "current k: 54\n",
      "keeping going right, current err 1.8759779776422363\n",
      "current k: 55\n",
      "keeping going right, current err 1.7700249147168023\n",
      "current k: 56\n",
      "keeping going right, current err 1.6651275116677406\n",
      "current k: 57\n",
      "keeping going right, current err 1.5614969004703296\n",
      "current k: 58\n",
      "keeping going right, current err 1.4593442130998424\n",
      "current k: 59\n",
      "keeping going right, current err 1.358880581531555\n",
      "current k: 60\n",
      "keeping going right, current err 1.2603171377407396\n",
      "current k: 61\n",
      "keeping going right, current err 1.1638650137026731\n",
      "current k: 62\n",
      "keeping going right, current err 1.0697353413926316\n",
      "current k: 63\n",
      "keeping going right, current err 1.0236074033778926\n",
      "current k: 64\n",
      "keeping going right, current err 0.9781392527858881\n",
      "current k: 65\n",
      "keeping going right, current err 0.933357281113525\n",
      "current k: 66\n",
      "keeping going right, current err 0.889287879857717\n",
      "current k: 67\n",
      "keeping going right, current err 0.8459574405153695\n",
      "current k: 68\n",
      "keeping going right, current err 0.8033923545833936\n",
      "current k: 69\n",
      "keeping going right, current err 0.7616190135586987\n",
      "current k: 70\n",
      "keeping going right, current err 0.7206638089381939\n",
      "current k: 71\n",
      "keeping going right, current err 0.680553132218788\n",
      "current k: 72\n",
      "keeping going right, current err 0.6413133748973916\n",
      "current k: 73\n",
      "keeping going right, current err 0.6029709284709129\n",
      "current k: 74\n",
      "keeping going right, current err 0.5655521844362617\n",
      "current k: 75\n",
      "keeping going right, current err 0.5290835342903478\n",
      "current k: 76\n",
      "keeping going right, current err 0.4935913695300795\n",
      "current k: 77\n",
      "keeping going right, current err 0.45910208165236693\n",
      "current k: 78\n",
      "keeping going right, current err 0.42564206215412026\n",
      "current k: 79\n",
      "keeping going right, current err 0.39323770253224766\n",
      "current k: 80\n",
      "keeping going right, current err 0.3619153942836582\n",
      "current k: 81\n",
      "keeping going right, current err 0.33170152890526144\n",
      "current k: 82\n",
      "keeping going right, current err 0.3026224978939681\n",
      "current k: 83\n",
      "keeping going right, current err 0.2747046927466858\n",
      "current k: 84\n",
      "keeping going right, current err 0.2479745049603251\n",
      "current k: 85\n",
      "keeping going right, current err 0.22245832603179394\n",
      "current k: 86\n",
      "keeping going right, current err 0.19818254745800334\n",
      "current k: 87\n",
      "keeping going right, current err 0.1751735607358618\n",
      "current k: 88\n",
      "keeping going right, current err 0.1534577573622791\n",
      "current k: 89\n",
      "keeping going right, current err 0.13306152883416297\n",
      "current k: 90\n",
      "keeping going right, current err 0.11401126664842505\n",
      "current k: 91\n",
      "keeping going right, current err 0.09633336230197269\n",
      "current k: 92\n",
      "keeping going right, current err 0.08005420729171746\n",
      "current k: 93\n",
      "keeping going right, current err 0.06520019311456855\n",
      "current k: 94\n",
      "keeping going right, current err 0.05179771126743143\n",
      "current k: 95\n",
      "keeping going right, current err 0.039873153247221516\n",
      "current k: 96\n",
      "keeping going right, current err 0.029452910550842894\n",
      "current k: 97\n",
      "keeping going right, current err 0.020563374675207285\n",
      "current k: 98\n",
      "keeping going right, current err 0.013230937117224121\n",
      "current k: 99\n",
      "keeping going right, current err 0.007481989373802924\n",
      "current k: 100\n",
      "keeping going right, current err 0.0033429229418513195\n",
      "current k: 101\n",
      "keeping going right, current err 0.0008401293182808801\n",
      "current k: 102\n",
      "keeping going right, current err 6.103645715321204e-05\n",
      "current k: 103\n",
      "keeping going right, current err 2.5132251274394754e-05\n",
      "current k: 104\n",
      "keeping going right, current err 2.234280737922546e-15\n"
     ]
    }
   ],
   "source": [
    "waypts = waypts_jnt\n",
    "cs = cs_jnt\n",
    "\n",
    "idx = np.zeros(waypts.shape[0], dtype=int)\n",
    "k = 0  # index for knots, scan all knots left to right, start at the 0th\n",
    "for i, waypt in enumerate(waypts):\n",
    "    print(f'checking waypt {i}')\n",
    "    waypt_min_err = float(\"inf\")  # always reset error for current waypt\n",
    "    while k < cs.x.size:\n",
    "        print(f'current k: {k}')\n",
    "        err = np.linalg.norm(cs(cs.x[k]) - waypt)\n",
    "        if err <= waypt_min_err + (i > 0) * 2e-3:\n",
    "            print(f'keeping going right, current err {err}')\n",
    "            waypt_min_err = err\n",
    "        else:  # we've found the closest knot at the previous knot, k-1\n",
    "            idx[i] = k - 1\n",
    "            print(f'found higher err: {err}, diff: {err-waypt_min_err}, set idx[{i}] = {k-1}')\n",
    "            break\n",
    "        k += 1\n",
    "    idx[i] = k - 1\n",
    "assert idx[0] == 0, \"The first knot is not the beginning waypoint\"\n",
    "assert all(\n",
    "    idx[1:] != 0\n",
    "), \"Failed to find all original waypoints in CubicSpline\"\n",
    "assert idx[-1] == cs.x.size - 1, \"The last knot is not the ending waypoint\""
   ]
  },
  {
   "cell_type": "markdown",
   "metadata": {},
   "source": [
    "### debug"
   ]
  },
  {
   "cell_type": "code",
   "execution_count": 14,
   "metadata": {},
   "outputs": [],
   "source": [
    "waypts_str ='''[[-5.13672496e-21  2.17090011e+00  1.97420001e+00 -1.33614886e+00\n",
    "   1.68947875e+00 -1.43582082e+00 -1.25112307e+00  7.89370894e-01\n",
    "   1.47137129e+00  1.02121091e+00]\n",
    " [-3.32828831e-09  2.17275190e+00  1.97231507e+00 -1.33659756e+00\n",
    "   1.68829679e+00 -1.43437290e+00 -1.25026381e+00  7.85554409e-01\n",
    "   1.47030544e+00  1.02154922e+00]\n",
    " [-5.00686888e-08  2.19915652e+00  1.94552147e+00 -1.34293866e+00\n",
    "   1.67151368e+00 -1.41380286e+00 -1.23804998e+00  7.31321335e-01\n",
    "   1.45512831e+00  1.02636683e+00]\n",
    " [-1.51639455e-07  2.25779486e+00  1.88627732e+00 -1.35684395e+00\n",
    "   1.63446021e+00 -1.36836183e+00 -1.21104920e+00  6.11465275e-01\n",
    "   1.42149162e+00  1.03704500e+00]\n",
    " [-3.03510689e-07  2.34875226e+00  1.79503691e+00 -1.37796271e+00\n",
    "   1.57753944e+00 -1.29848599e+00 -1.16947937e+00  4.27032262e-01\n",
    "   1.36948764e+00  1.05355692e+00]\n",
    " [-4.78252105e-07  2.46180892e+00  1.68324935e+00 -1.40310061e+00\n",
    "   1.50815940e+00 -1.21314013e+00 -1.11858237e+00  2.01450363e-01\n",
    "   1.30527341e+00  1.07395291e+00]\n",
    " [-5.95908773e-07  2.55269051e+00  1.59602475e+00 -1.42149901e+00\n",
    "   1.45461607e+00 -1.14698601e+00 -1.07892489e+00  2.60696374e-02\n",
    "   1.25434577e+00  1.09014034e+00]\n",
    " [-6.31483317e-07  2.61303782e+00  1.54313195e+00 -1.43027127e+00\n",
    "   1.42328405e+00 -1.10777235e+00 -1.05507600e+00 -7.89981931e-02\n",
    "   1.22196949e+00  1.10044014e+00]\n",
    " [-5.83632527e-07  2.64353275e+00  1.52495861e+00 -1.42886245e+00\n",
    "   1.41445374e+00 -1.09627032e+00 -1.04788053e+00 -1.12447031e-01\n",
    "   1.20893061e+00  1.10451031e+00]\n",
    " [-4.30989161e-07  2.65223694e+00  1.54129899e+00 -1.41384876e+00\n",
    "   1.42881119e+00 -1.11507499e+00 -1.06058168e+00 -7.15113729e-02\n",
    "   1.21707821e+00  1.10131919e+00]\n",
    " [-3.04006875e-07  2.66843677e+00  1.55857241e+00 -1.39506161e+00\n",
    "   1.44321787e+00 -1.13976073e+00 -1.08208919e+00 -2.32865438e-02\n",
    "   1.23451877e+00  1.09397626e+00]\n",
    " [-2.62020137e-07  2.71521425e+00  1.55118251e+00 -1.37953508e+00\n",
    "   1.44117415e+00 -1.15030921e+00 -1.10065782e+00 -2.01057959e-02\n",
    "   1.24736989e+00  1.08688331e+00]\n",
    " [-2.06513036e-07  2.79397821e+00  1.53620076e+00 -1.35511065e+00\n",
    "   1.43577600e+00 -1.16541350e+00 -1.13006961e+00 -2.07504742e-02\n",
    "   1.26745081e+00  1.07552099e+00]\n",
    " [-1.14120589e-07  2.88239980e+00  1.52467299e+00 -1.32411373e+00\n",
    "   1.43375051e+00 -1.18797719e+00 -1.16710234e+00 -8.90599750e-03\n",
    "   1.29344857e+00  1.06146646e+00]\n",
    " [-3.92676220e-08  2.94131780e+00  1.51934671e+00 -1.30186725e+00\n",
    "   1.43419385e+00 -1.20551252e+00 -1.19357443e+00  4.58445167e-03\n",
    "   1.31232250e+00  1.05151761e+00]\n",
    " [-3.08850145e-09  2.96830320e+00  1.51724136e+00 -1.29145217e+00\n",
    "   1.43465161e+00 -1.21389806e+00 -1.20595300e+00  1.15570463e-02\n",
    "   1.32118571e+00  1.04687870e+00]\n",
    " [ 5.83989512e-22  2.97048521e+00  1.51709998e+00 -1.29059041e+00\n",
    "   1.43471062e+00 -1.21460688e+00 -1.20697606e+00  1.21896211e-02\n",
    "   1.32192147e+00  1.04649639e+00]]'''\n",
    "\n",
    "vlim_str='''[[-99.       99.     ]\n",
    " [ -2.475     2.475  ]\n",
    " [ -2.475     2.475  ]\n",
    " [ -2.15325   2.15325]\n",
    " [ -2.15325   2.15325]\n",
    " [ -2.15325   2.15325]\n",
    " [ -2.15325   2.15325]\n",
    " [ -2.5839    2.5839 ]\n",
    " [ -2.5839    2.5839 ]\n",
    " [ -2.5839    2.5839 ]] '''\n",
    "\n",
    "alim_str='''[[-85.     85.   ]\n",
    " [ -3.4     3.4  ]\n",
    " [ -3.4     3.4  ]\n",
    " [-12.75   12.75 ]\n",
    " [ -6.375   6.375]\n",
    " [ -8.5     8.5  ]\n",
    " [-10.625  10.625]\n",
    " [-12.75   12.75 ]\n",
    " [-17.     17.   ]\n",
    " [-17.     17.   ]] '''"
   ]
  },
  {
   "cell_type": "code",
   "execution_count": 15,
   "metadata": {},
   "outputs": [],
   "source": [
    "waypts = parse_str_arr(waypts_str)\n",
    "vlim = parse_str_arr(vlim_str)\n",
    "alim = parse_str_arr(alim_str)"
   ]
  },
  {
   "cell_type": "code",
   "execution_count": 65,
   "metadata": {},
   "outputs": [],
   "source": [
    "np.savetxt('/src/toppra/tests/dracula/test_waypts_jnt_7.txt', waypts)"
   ]
  },
  {
   "cell_type": "code",
   "execution_count": 98,
   "metadata": {},
   "outputs": [],
   "source": [
    "import numpy as np\n",
    "data = np.load('/data/toppra/input_data/20210303T182518.144079+0000.npz')\n",
    "waypts = data['waypts']\n",
    "vlim = data['vlim']\n",
    "alim = data['alim']"
   ]
  },
  {
   "cell_type": "code",
   "execution_count": 5,
   "metadata": {},
   "outputs": [],
   "source": [
    "from toppra.dracula import run_topp_spline, _check_waypts, run_topp_const_accel"
   ]
  },
  {
   "cell_type": "code",
   "execution_count": null,
   "metadata": {},
   "outputs": [],
   "source": [
    "cs = run_topp_spline(waypts, vlim, alim, return_cs=True)"
   ]
  },
  {
   "cell_type": "code",
   "execution_count": null,
   "metadata": {},
   "outputs": [],
   "source": [
    "cs = run_topp_const_accel(waypts, vlim, alim)"
   ]
  },
  {
   "cell_type": "code",
   "execution_count": 20,
   "metadata": {},
   "outputs": [],
   "source": [
    "pair_dist = np.diff(waypts, axis=0)  # (N-1, N_dof)\n",
    "i_sign_flip = (  # find where it changes direction\n",
    "    np.where(np.sign(pair_dist[:-1]) != np.sign(pair_dist[1:]))[0] + 1\n",
    ")\n",
    "pair_t = np.abs(pair_dist) / vlim[:, 1]\n",
    "pair_t[i_sign_flip] = np.sqrt(  # assume 0 velocity start at max accel\n",
    "    2 * np.abs(pair_dist)[i_sign_flip] / alim[:, 1]\n",
    ")\n",
    "t_sum = pair_t.max(axis=1).sum()\n",
    "min_pair_dist = np.linalg.norm(pair_dist, axis=1).min()"
   ]
  },
  {
   "cell_type": "code",
   "execution_count": 26,
   "metadata": {},
   "outputs": [
    {
     "data": {
      "text/plain": [
       "1.3938484764668813"
      ]
     },
     "execution_count": 26,
     "metadata": {},
     "output_type": "execute_result"
    }
   ],
   "source": [
    "t_sum"
   ]
  },
  {
   "cell_type": "code",
   "execution_count": 61,
   "metadata": {},
   "outputs": [
    {
     "data": {
      "text/plain": [
       "0.04181545429400644"
      ]
     },
     "execution_count": 61,
     "metadata": {},
     "output_type": "execute_result"
    }
   ],
   "source": [
    "instance.path.duration"
   ]
  },
  {
   "cell_type": "code",
   "execution_count": 58,
   "metadata": {},
   "outputs": [],
   "source": [
    "A_LIM_EPS = 0.07\n",
    "V_LIM_EPS = 0.12\n",
    "pc_acc = constraint.JointAccelerationConstraint(\n",
    "    alim - np.sign(alim) * A_LIM_EPS,\n",
    "    discretization_scheme=constraint.DiscretizationType.Interpolation,\n",
    ")\n",
    "pc_vel = constraint.JointVelocityConstraint(\n",
    "            vlim - np.sign(vlim) * V_LIM_EPS\n",
    "        )\n",
    "x = np.linspace(0, 0.03*t_sum, waypts.shape[0])\n",
    "path = ta.SplineInterpolator(x, waypts.copy(), bc_type=\"clamped\")\n",
    "instance = algo.TOPPRA(\n",
    "    [pc_vel, pc_acc],\n",
    "    path,\n",
    "    solver_wrapper=\"seidel\",\n",
    "    parametrizer=\"ParametrizeSpline\",\n",
    ")\n",
    "traj = instance.compute_trajectory(0, 0)"
   ]
  },
  {
   "cell_type": "code",
   "execution_count": 55,
   "metadata": {},
   "outputs": [
    {
     "data": {
      "text/plain": [
       "1.5842264269018105"
      ]
     },
     "execution_count": 55,
     "metadata": {},
     "output_type": "execute_result"
    }
   ],
   "source": [
    "traj.duration"
   ]
  },
  {
   "cell_type": "code",
   "execution_count": 107,
   "metadata": {},
   "outputs": [],
   "source": [
    "A_LIM_EPS = 0.07\n",
    "V_LIM_EPS = 0.12\n",
    "pc_acc = constraint.JointAccelerationConstraint(\n",
    "    alim - np.sign(alim) * A_LIM_EPS,\n",
    "    discretization_scheme=constraint.DiscretizationType.Interpolation,\n",
    ")\n",
    "pc_vel = constraint.JointVelocityConstraint(\n",
    "            vlim - np.sign(vlim) * V_LIM_EPS,\n",
    "        )\n",
    "x = np.linspace(0, 0.5*t_sum, waypts.shape[0])\n",
    "path = ta.SplineInterpolator(x, waypts.copy(), bc_type=\"clamped\")\n",
    "instance = algo.TOPPRA(\n",
    "    [pc_vel, pc_acc],\n",
    "    path,\n",
    "    solver_wrapper=\"seidel\",\n",
    "    parametrizer=\"ParametrizeConstAccel\",\n",
    "    gridpt_min_nb_points=1000,  # ensure eps ~ O(1e-2)\n",
    ")\n",
    "traj = instance.compute_trajectory(0, 0)"
   ]
  },
  {
   "cell_type": "code",
   "execution_count": 152,
   "metadata": {
    "tags": []
   },
   "outputs": [],
   "source": [
    "np.savetxt('/src/toppra/tests/dracula/test_waypts_jnt_6.txt', waypts)"
   ]
  },
  {
   "cell_type": "code",
   "execution_count": 154,
   "metadata": {},
   "outputs": [],
   "source": [
    "V_MAX = np.array([2.1750, 2.1750, 2.1750, 2.1750, 2.6100, 2.6100, 2.6100])\n",
    "A_MAX = np.array([15, 7.5, 10, 12.5, 15, 20, 20])"
   ]
  }
 ],
 "metadata": {
  "kernelspec": {
   "display_name": "Python 3",
   "language": "python",
   "name": "python3"
  },
  "language_info": {
   "codemirror_mode": {
    "name": "ipython",
    "version": 3
   },
   "file_extension": ".py",
   "mimetype": "text/x-python",
   "name": "python",
   "nbconvert_exporter": "python",
   "pygments_lexer": "ipython3",
   "version": "3.6.9"
  }
 },
 "nbformat": 4,
 "nbformat_minor": 4
}
